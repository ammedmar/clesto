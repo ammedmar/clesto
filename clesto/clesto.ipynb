{
 "cells": [
  {
   "cell_type": "markdown",
   "metadata": {},
   "source": [
    "## Modeling elements in a free $\\mathbb Z$-module"
   ]
  },
  {
   "cell_type": "code",
   "execution_count": null,
   "metadata": {
    "scrolled": true
   },
   "outputs": [],
   "source": [
    "#_________________________________79_characters________________________________\n",
    "from clesto import Z_Module_element\n",
    "\n",
    "x = Z_Module_element({'a':1, 'b':2, 'c':3})\n",
    "y = Z_Module_element({'a':1, 'b':-1, 'c':1})\n",
    "print(f'x+y  = ({x})+({y})     = {x+y}')\n",
    "print(f'x-3y = ({x})+({-3*y}) = {x+-3*y}')\n",
    "print(f'x-3y mod 4 = {(x+-3*y) % 4}')"
   ]
  },
  {
   "cell_type": "markdown",
   "metadata": {},
   "source": [
    "## Modeling elements in a free $\\mathbb Z/ p\\mathbb Z$-module "
   ]
  },
  {
   "cell_type": "code",
   "execution_count": null,
   "metadata": {},
   "outputs": [],
   "source": [
    "#_________________________________79_characters________________________________\n",
    "from clesto import Z_p_Module_element\n",
    "\n",
    "Z_p_Module_element.prime = 3\n",
    "\n",
    "x = Z_p_Module_element({'a':1, 'b':2, 'c':3})\n",
    "y = Z_p_Module_element({'a':1, 'b':-1, 'c':1})\n",
    "\n",
    "print(f'x+y  = ({x})+({y}) = {x+y}')\n",
    "print(f'x-3y = ({x})+({-3*y}) = {x+-3*y}')\n",
    "print(f'4({x}) = {4*x}')"
   ]
  },
  {
   "cell_type": "markdown",
   "metadata": {},
   "source": [
    "## Modeling elements in the algebra $\\mathbb Z_p[C_p]$\n",
    "\n",
    "Where $C_p$ is the cyclic group with $p$ elements"
   ]
  },
  {
   "cell_type": "code",
   "execution_count": null,
   "metadata": {},
   "outputs": [],
   "source": [
    "#_________________________________79_characters________________________________\n",
    "from clesto import Z_pC_p_element\n",
    "\n",
    "T = Z_pC_p_element({1:1,0:-1})\n",
    "N = Z_pC_p_element.norm_element()\n",
    "print(f'T={T}, N={N}, T(N)={T(N)} and N(T)={N(T)}')"
   ]
  },
  {
   "cell_type": "markdown",
   "metadata": {},
   "source": [
    "## Modeling elements in the integral chains of a simplicial complex"
   ]
  },
  {
   "cell_type": "code",
   "execution_count": null,
   "metadata": {},
   "outputs": [],
   "source": [
    "#_________________________________79_characters________________________________\n",
    "from clesto import Simplicial_Chain_Complex_element\n",
    "\n",
    "x = Simplicial_Chain_Complex_element({(0,1):1, (1,2):1, (0,2):-1})\n",
    "y = Simplicial_Chain_Complex_element({(0,1,2):1})\n",
    "print(f'boundary of y = {y.boundary()} = x')"
   ]
  },
  {
   "cell_type": "markdown",
   "metadata": {},
   "source": [
    "## Modeling elements in the (normalized) chains of $E(\\mathbb Z/p[C_p])$"
   ]
  },
  {
   "cell_type": "code",
   "execution_count": null,
   "metadata": {},
   "outputs": [],
   "source": [
    "#_________________________________79_characters________________________________\n",
    "from clesto import EZ_pC_p_element\n",
    "\n"
   ]
  }
 ],
 "metadata": {
  "kernelspec": {
   "display_name": "Python 3",
   "language": "python",
   "name": "python3"
  },
  "language_info": {
   "codemirror_mode": {
    "name": "ipython",
    "version": 3
   },
   "file_extension": ".py",
   "mimetype": "text/x-python",
   "name": "python",
   "nbconvert_exporter": "python",
   "pygments_lexer": "ipython3",
   "version": "3.7.3"
  }
 },
 "nbformat": 4,
 "nbformat_minor": 2
}
