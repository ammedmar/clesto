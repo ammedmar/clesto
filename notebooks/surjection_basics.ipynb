{
 "cells": [
  {
   "cell_type": "markdown",
   "metadata": {},
   "source": [
    "### Surjection operad"
   ]
  },
  {
   "cell_type": "code",
   "execution_count": null,
   "metadata": {},
   "outputs": [],
   "source": [
    "from clesto import *\n",
    "Module_element.default_torsion = 3  # 'free' for integer coeffs"
   ]
  },
  {
   "cell_type": "code",
   "execution_count": null,
   "metadata": {},
   "outputs": [],
   "source": [
    "def x(n):\n",
    "    '''Returns the canonical basis element of degree n in arity 2'''\n",
    "    return Surjection_element({tuple(1+(i%2) for i in range(n+2)): 1})\n",
    "\n",
    "print('x(2) = ', x(2))\n",
    "\n",
    "# The non-trivial permutaion S2 thought of as a basis element in the group ring\n",
    "T = SymmetricModule_element({(2, 1): 1})\n",
    "\n",
    "print('T * x(2) = ', T * x(2))\n",
    "\n",
    "# composition as you read it\n",
    "a = x(1).compose(x(2),1)\n",
    "print('x(1) o_1 x(2) = ', a)\n",
    "\n",
    "print('orbit rep of a =', a.orbit())\n",
    "print('signed orbit rep of a =', a.orbit(representation='sign'))"
   ]
  },
  {
   "cell_type": "code",
   "execution_count": null,
   "metadata": {},
   "outputs": [],
   "source": [
    "def replace(i, j, surj):\n",
    "    _rep = lambda k: j if k == i else k\n",
    "    replaced = Surjection_element()\n",
    "    for key, value in surj.items():\n",
    "        replaced += Surjection_element({tuple(_rep(k) for k in key): value})\n",
    "    return replaced\n",
    "\n",
    "print('Replacement of 3 by 2 in (1,2,1,3,1) gives:')\n",
    "print(replace(3, 2, Surjection_element({(1,2,1,3,1): 1})))"
   ]
  }
 ],
 "metadata": {
  "kernelspec": {
   "display_name": "Python 3",
   "language": "python",
   "name": "python3"
  },
  "language_info": {
   "codemirror_mode": {
    "name": "ipython",
    "version": 3
   },
   "file_extension": ".py",
   "mimetype": "text/x-python",
   "name": "python",
   "nbconvert_exporter": "python",
   "pygments_lexer": "ipython3",
   "version": "3.7.3"
  }
 },
 "nbformat": 4,
 "nbformat_minor": 2
}
