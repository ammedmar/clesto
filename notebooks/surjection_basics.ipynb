{
 "cells": [
  {
   "cell_type": "markdown",
   "metadata": {},
   "source": [
    "### Surjection operad"
   ]
  },
  {
   "cell_type": "code",
   "execution_count": 1,
   "metadata": {},
   "outputs": [],
   "source": [
    "from clesto import *"
   ]
  },
  {
   "cell_type": "code",
   "execution_count": 20,
   "metadata": {},
   "outputs": [],
   "source": [
    "Module_element.default_torsion = 3#'free'  \n",
    "# 'free' for integer coeffs\n",
    "#  restart the kernel after changing this"
   ]
  },
  {
   "cell_type": "code",
   "execution_count": 19,
   "metadata": {},
   "outputs": [
    {
     "name": "stdout",
     "output_type": "stream",
     "text": [
      "x(2) =  (1,2,1,2)\n",
      "T * x(2) =  (2,1,2,1)\n",
      "x(1) o_1 x(2) = \n",
      " (1,3,1,2,1,2) - (1,2,3,2,1,2) + (1,2,1,3,1,2) + (1,2,1,2,3,2)\n",
      "its complexity = 3\n",
      "its boundary =\n",
      " (3,1,2,1,2) - (1,3,1,2,1) - (2,3,2,1,2) + (1,2,3,2,1) + (2,1,3,1,2) + (1,2,1,3,1) + (2,1,2,3,2) - (1,2,1,2,3)\n",
      "its orbit =\n",
      " (1,2,1,3,1,3) - (1,2,3,2,1,2) + (1,2,1,3,1,2) + (1,2,1,2,3,2)\n",
      "its signed orbit =\n",
      " - (1,2,1,3,1,3) - (1,2,3,2,1,2) + (1,2,1,3,1,2) + (1,2,1,2,3,2)\n"
     ]
    }
   ],
   "source": [
    "def x(n):\n",
    "    '''Returns the canonical basis element of degree n in arity 2'''\n",
    "    return Surjection_element({tuple(1+(i%2) for i in range(n+2)): 1})\n",
    "\n",
    "print('x(2) = ', x(2))\n",
    "\n",
    "# The non-trivial permutaion S2 thought of as a basis element in the group ring\n",
    "T = SymmetricModule_element({(2, 1): 1})\n",
    "\n",
    "print('T * x(2) = ', T * x(2))\n",
    "\n",
    "# composition as you read it\n",
    "a = x(1).compose(x(2),1)\n",
    "print('x(1) o_1 x(2) = \\n', a)\n",
    "print('its complexity =', a.complexity)\n",
    "print('its boundary =\\n', a.boundary())\n",
    "print('its orbit =\\n', a.orbit())\n",
    "print('its signed orbit =\\n', a.orbit(representation='sign'))"
   ]
  },
  {
   "cell_type": "code",
   "execution_count": 3,
   "metadata": {},
   "outputs": [
    {
     "name": "stdout",
     "output_type": "stream",
     "text": [
      "Replacement of 3 by 2 in (1,2,1,3,1) gives:\n",
      "(1,2,1,2,1)\n"
     ]
    }
   ],
   "source": [
    "def replace(i, j, surj):\n",
    "    _rep = lambda k: j if k == i else k\n",
    "    replaced = Surjection_element()\n",
    "    for key, value in surj.items():\n",
    "        replaced += Surjection_element({tuple(_rep(k) for k in key): value})\n",
    "    return replaced\n",
    "\n",
    "print('Replacement of 3 by 2 in (1,2,1,3,1) gives:')\n",
    "print(replace(3, 2, Surjection_element({(1,2,1,3,1): 1})))"
   ]
  },
  {
   "cell_type": "code",
   "execution_count": 10,
   "metadata": {},
   "outputs": [
    {
     "name": "stdout",
     "output_type": "stream",
     "text": [
      "(1,3,1,3,2,3,2) - (1,3,2,1,2,3,2) + (1,3,2,3,1,3,2) + (1,3,2,3,2,1,2)\n"
     ]
    }
   ],
   "source": [
    "a = x(2).compose(x(2), 1)\n",
    "b = x(2).compose(x(2), 2)\n",
    "print(c)"
   ]
  }
 ],
 "metadata": {
  "kernelspec": {
   "display_name": "Python 3",
   "language": "python",
   "name": "python3"
  },
  "language_info": {
   "codemirror_mode": {
    "name": "ipython",
    "version": 3
   },
   "file_extension": ".py",
   "mimetype": "text/x-python",
   "name": "python",
   "nbconvert_exporter": "python",
   "pygments_lexer": "ipython3",
   "version": "3.7.3"
  }
 },
 "nbformat": 4,
 "nbformat_minor": 2
}
