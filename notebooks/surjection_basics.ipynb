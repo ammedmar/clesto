{
 "cells": [
  {
   "cell_type": "markdown",
   "metadata": {},
   "source": [
    "### Surjection operad"
   ]
  },
  {
   "cell_type": "code",
   "execution_count": null,
   "metadata": {},
   "outputs": [],
   "source": [
    "from clesto import *"
   ]
  },
  {
   "cell_type": "code",
   "execution_count": null,
   "metadata": {},
   "outputs": [],
   "source": [
    "# torsion = 'free' for integer coeffs\n",
    "x = Surjection_element({(1,2,1,2): 1}, torsion=3)\n",
    "y = Surjection_element({(1,2,1): -1}, torsion=3)\n",
    "\n",
    "# composiiton as you read it\n",
    "a = x.compose(x, 2)\n",
    "d = x.compose(y, 1)\n",
    "c = y.compose(x, 2)\n",
    "d = y.compose(x, 1)\n",
    "\n",
    "print('x:')\n",
    "print(x)\n",
    "print('y:')\n",
    "print(y)\n",
    "print('y o_1 x:')\n",
    "print(y.compose(x, 1))\n",
    "print('orbit')\n",
    "print(d.orbit())\n",
    "print('signed orbit:')\n",
    "print(d.orbit(representation='sign'))"
   ]
  }
 ],
 "metadata": {
  "kernelspec": {
   "display_name": "Python 3",
   "language": "python",
   "name": "python3"
  },
  "language_info": {
   "codemirror_mode": {
    "name": "ipython",
    "version": 3
   },
   "file_extension": ".py",
   "mimetype": "text/x-python",
   "name": "python",
   "nbconvert_exporter": "python",
   "pygments_lexer": "ipython3",
   "version": "3.7.3"
  }
 },
 "nbformat": 4,
 "nbformat_minor": 2
}
