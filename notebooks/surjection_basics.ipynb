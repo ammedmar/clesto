{
 "cells": [
  {
   "cell_type": "markdown",
   "metadata": {},
   "source": [
    "### Surjection operad"
   ]
  },
  {
   "cell_type": "code",
   "execution_count": null,
   "metadata": {},
   "outputs": [],
   "source": [
    "from clesto import *\n",
    "\n",
    "def symmetric_orbit(surj):\n",
    "    translation = {(1,2): (1,2,3), (1,3): (1,3,2), (2,1): (2,1,3),\n",
    "                   (2,3): (3,1,2), (3,1): (2,3,1), (3,2): (3,2,1)}\n",
    "    rep = Surjection_element(torsion=3)\n",
    "    for k, v in surj.items():\n",
    "        perm = SymmetricModule_element({translation[k[:2]]: 1}, torsion=surj.torsion)\n",
    "        new = perm * Surjection_element({k:v}, torsion=surj.torsion)\n",
    "        rep += new\n",
    "    return rep\n",
    "\n",
    "def sign_symmetric_orbit(surj):\n",
    "    translation = {(1,2): (1,2,3), (1,3): (1,3,2), (2,1): (2,1,3),\n",
    "                   (2,3): (3,1,2), (3,1): (2,3,1), (3,2): (3,2,1)}\n",
    "    sign = {(1,2): 1, (1,3): -1, (2,1): -1,\n",
    "            (2,3): 1, (3,1): 1, (3,2): -1}\n",
    "    rep = Surjection_element(torsion=3)\n",
    "    for k, v in surj.items():\n",
    "        perm = SymmetricModule_element({translation[k[:2]]: sign[k[:2]]}, torsion=surj.torsion)\n",
    "        new = perm * Surjection_element({k:v}, torsion=surj.torsion)\n",
    "        rep += new\n",
    "    return rep"
   ]
  },
  {
   "cell_type": "code",
   "execution_count": null,
   "metadata": {},
   "outputs": [],
   "source": [
    "# torsion = 'free' for integer coeffs\n",
    "x = Surjection_element({(1,2,1,2): 1}, torsion=3)\n",
    "y = Surjection_element({(1,2,1): -1}, torsion=3)\n",
    "\n",
    "# composiiton as you read it\n",
    "a = x.compose(x, 2)\n",
    "d = x.compose(y, 1)\n",
    "c = y.compose(x, 2)\n",
    "d = y.compose(x, 1)\n",
    "\n",
    "print('x:')\n",
    "print(x)\n",
    "print('y:')\n",
    "print(y)\n",
    "print('y o_1 x:')\n",
    "print(y.compose(x, 1))\n",
    "print('signed orbit:')\n",
    "print(sign_symmetric_orbit(d))\n",
    "print('orbit')\n",
    "print(symmetric_orbit(d))"
   ]
  }
 ],
 "metadata": {
  "kernelspec": {
   "display_name": "Python 3",
   "language": "python",
   "name": "python3"
  },
  "language_info": {
   "codemirror_mode": {
    "name": "ipython",
    "version": 3
   },
   "file_extension": ".py",
   "mimetype": "text/x-python",
   "name": "python",
   "nbconvert_exporter": "python",
   "pygments_lexer": "ipython3",
   "version": "3.7.3"
  }
 },
 "nbformat": 4,
 "nbformat_minor": 2
}
