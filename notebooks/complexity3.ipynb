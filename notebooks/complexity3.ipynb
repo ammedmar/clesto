{
 "cells": [
  {
   "cell_type": "code",
   "execution_count": null,
   "metadata": {},
   "outputs": [],
   "source": [
    "from clesto import *\n",
    "from itertools import product\n",
    "from functools import reduce"
   ]
  },
  {
   "cell_type": "code",
   "execution_count": null,
   "metadata": {},
   "outputs": [],
   "source": [
    "basis = [[],[]]\n",
    "for i in reversed(range(2)):\n",
    "    for s in product((1,2,3),repeat=7+i):\n",
    "        surj = Surjection_element({s:1}, torsion=3)\n",
    "        if surj and surj.complexity <= 3:\n",
    "            if surj.orbit() not in basis[i]:\n",
    "                basis[i].append(surj.orbit())\n",
    "    print(basis[i], '\\n')"
   ]
  },
  {
   "cell_type": "code",
   "execution_count": null,
   "metadata": {},
   "outputs": [],
   "source": [
    "bdry = Surjection_element({(1, 2, 1, 3, 1, 3, 2, 3): 1}, torsion=3).boundary()"
   ]
  },
  {
   "cell_type": "code",
   "execution_count": null,
   "metadata": {},
   "outputs": [],
   "source": [
    "for coeffs in product({0,1,2}, repeat=6):\n",
    "    chain = (i*s for i, s in zip(coeffs, basis[0]))\n",
    "    chain = reduce((lambda x, y: x + y), chain)\n",
    "    if not chain.boundary().orbit() and chain:\n",
    "        cycle = chain.orbit()\n",
    "        print(cycle)\n",
    "        break"
   ]
  },
  {
   "cell_type": "code",
   "execution_count": null,
   "metadata": {},
   "outputs": [],
   "source": [
    "Surjection_element({(1, 2, 1, 3, 1, 3, 2, 3): 1}, torsion=3).boundary().boundary()"
   ]
  }
 ],
 "metadata": {
  "kernelspec": {
   "display_name": "Python 3",
   "language": "python",
   "name": "python3"
  },
  "language_info": {
   "codemirror_mode": {
    "name": "ipython",
    "version": 3
   },
   "file_extension": ".py",
   "mimetype": "text/x-python",
   "name": "python",
   "nbconvert_exporter": "python",
   "pygments_lexer": "ipython3",
   "version": "3.8.3"
  }
 },
 "nbformat": 4,
 "nbformat_minor": 4
}
