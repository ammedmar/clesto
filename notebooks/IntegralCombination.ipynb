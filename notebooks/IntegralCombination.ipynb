{
 "cells": [
  {
   "cell_type": "code",
   "execution_count": 6,
   "metadata": {},
   "outputs": [],
   "source": [
    "from collections import Counter\n",
    "\n",
    "class IntegralCombination(Counter):\n",
    "    \n",
    "    def mod(self, p):\n",
    "        '''Deletes pairs key:value for which value%p = 0\n",
    "        and replaces pairs key:value with key:value%p'''\n",
    "        \n",
    "        for key, value in self.items():\n",
    "            self[key] = value%p\n",
    "        \n",
    "        return self.remove_zeros()\n",
    "    \n",
    "    def __add__(self, other):\n",
    "        '''...'''\n",
    "        answer = IntegralCombination(self)\n",
    "        answer.update(other)\n",
    "        return answer\n",
    "        \n",
    "    def __iadd__(self, other):\n",
    "        '''...'''\n",
    "        self.update(other)\n",
    "        return self\n",
    "    \n",
    "    def __sub__(self, other):\n",
    "        '''...'''\n",
    "        answer = IntegralCombination(self)\n",
    "        answer.subtract(other)\n",
    "        return answer\n",
    "    \n",
    "    def __isub__(self, other):\n",
    "        '''...'''\n",
    "        self.subtract(other)\n",
    "        return self\n",
    "    \n",
    "    def __str__(self):\n",
    "        '''...'''\n",
    "        answer = '' \n",
    "        for key, value in self.items():\n",
    "            answer += f'{value}*{key}+'\n",
    "        return answer[:-1]\n",
    "    \n",
    "    def remove_zeros(self):\n",
    "        self = IntegralCombination(\n",
    "                   {k:v for k,v in a.items() if v})\n",
    "        return self"
   ]
  }
 ],
 "metadata": {
  "kernelspec": {
   "display_name": "Python 3",
   "language": "python",
   "name": "python3"
  },
  "language_info": {
   "codemirror_mode": {
    "name": "ipython",
    "version": 3
   },
   "file_extension": ".py",
   "mimetype": "text/x-python",
   "name": "python",
   "nbconvert_exporter": "python",
   "pygments_lexer": "ipython3",
   "version": "3.7.3"
  }
 },
 "nbformat": 4,
 "nbformat_minor": 2
}
