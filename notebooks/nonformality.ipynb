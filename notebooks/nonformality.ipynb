{
 "cells": [
  {
   "cell_type": "code",
   "execution_count": null,
   "metadata": {},
   "outputs": [],
   "source": [
    "from clesto import *\n",
    "import numpy as np\n",
    "import itertools\n",
    "Module_element.default_torsion = 2"
   ]
  },
  {
   "cell_type": "code",
   "execution_count": null,
   "metadata": {},
   "outputs": [],
   "source": [
    "complexity = 3\n",
    "# product\n",
    "m = Surjection_element({(1,2):1})\n",
    "# bracket\n",
    "b1 = Surjection_element({tuple(1+i%2 for i in range(complexity+1)): 1})\n",
    "b2 = Surjection_element({tuple(1+(1+i)%2 for i in range(complexity+1)): 1})\n",
    "b = b1 + b2\n",
    "# associator\n",
    "A = Surjection_element()\n",
    "# Poisson relation:\n",
    "dB = b.compose(m,1) + b.compose(m,2) + m.compose(b,1) + m.compose(b,2)"
   ]
  },
  {
   "cell_type": "markdown",
   "metadata": {},
   "source": [
    "#### Bases in degree d and d+1 in Surj(3)"
   ]
  },
  {
   "cell_type": "code",
   "execution_count": null,
   "metadata": {},
   "outputs": [],
   "source": [
    "def surj_to_vector(surj, basis):\n",
    "    '''Transforms a surjection of the form {u:1, v:1, ..., w:1}\n",
    "    to a vector in the given basis given as a tuple of tuples'''\n",
    "    \n",
    "    vector = np.zeros(len(basis), dtype=np.bool)\n",
    "    for k in surj.keys():\n",
    "        vector[basis.index(k)] = True\n",
    "    return vector"
   ]
  },
  {
   "cell_type": "code",
   "execution_count": null,
   "metadata": {},
   "outputs": [],
   "source": [
    "def vector_to_surj(vector, basis):\n",
    "    '''Transforms a vector in the given basis given as a tuple of tuples\n",
    "    into the represented Surjection_element'''\n",
    "    \n",
    "    return Surjection_element({k: 1 for idx, k in enumerate(basis) if vector[idx]})"
   ]
  },
  {
   "cell_type": "markdown",
   "metadata": {},
   "source": [
    "#### Boundary from d+1 to d"
   ]
  },
  {
   "cell_type": "code",
   "execution_count": null,
   "metadata": {},
   "outputs": [],
   "source": [
    "def create_boundary(basis0, basis1):\n",
    "    boundary = np.zeros((len(basis0), len(basis1)), dtype=np.bool)\n",
    "    for col, basis_tuple in enumerate(basis1):\n",
    "        basis_surj = Surjection_element({basis_tuple: 1})\n",
    "        boundary[:, col] = surj_to_vector(basis_surj.boundary(), basis0)\n",
    "    return boundary"
   ]
  },
  {
   "cell_type": "markdown",
   "metadata": {},
   "source": [
    "#### Linear algebra mod 2"
   ]
  },
  {
   "cell_type": "code",
   "execution_count": null,
   "metadata": {},
   "outputs": [],
   "source": [
    "import lam2"
   ]
  },
  {
   "cell_type": "markdown",
   "metadata": {},
   "source": [
    "#### Searching for a chain B\n",
    "whose boundary is dB, the Poisson relation"
   ]
  },
  {
   "cell_type": "code",
   "execution_count": null,
   "metadata": {},
   "outputs": [],
   "source": [
    "degree = dB.degree\n",
    "arity = dB.arity\n",
    "\n",
    "basis0 = Surjection_element.basis(degree, arity, complexity)\n",
    "basis1 = Surjection_element.basis(degree+1, arity, complexity)\n",
    "\n",
    "boundary = create_boundary(basis0, basis1)\n",
    "\n",
    "vector = surj_to_vector(dB, basis0)\n",
    "\n",
    "solution = lam2.solve(vector, boundary)\n",
    "\n",
    "B = vector_to_surj(solution, basis1)\n",
    "\n",
    "dB == B.boundary() # check correctness"
   ]
  },
  {
   "cell_type": "markdown",
   "metadata": {},
   "source": [
    "#### Searching for C"
   ]
  },
  {
   "cell_type": "code",
   "execution_count": null,
   "metadata": {},
   "outputs": [],
   "source": [
    "# Salvatore relation\n",
    "dC = B.compose(m,1) + B.compose(m,2) + B.compose(m,3) + m.compose(B,1) + m.compose(B,2)"
   ]
  },
  {
   "cell_type": "code",
   "execution_count": null,
   "metadata": {},
   "outputs": [],
   "source": [
    "degree = dC.degree\n",
    "arity = dC.arity\n",
    "\n",
    "basis0 = Surjection_element.basis(degree, arity, complexity)\n",
    "basis1 = Surjection_element.basis(degree+1, arity, complexity)\n",
    "\n",
    "boundary = create_boundary(basis0, basis1)\n",
    "\n",
    "vector = surj_to_vector(dC, basis0)\n",
    "\n",
    "solution = lam2.solve(vector, boundary)\n",
    "\n",
    "C = vector_to_surj(solution, basis1)\n",
    "\n",
    "dC == C.boundary() # check correctness"
   ]
  },
  {
   "cell_type": "markdown",
   "metadata": {},
   "source": [
    "#### Finding the obstrution to formality of E3"
   ]
  },
  {
   "cell_type": "code",
   "execution_count": null,
   "metadata": {},
   "outputs": [],
   "source": [
    "dX = C.zero()\n",
    "for i in range(1,5):\n",
    "    dX += C.compose(m, i)\n",
    "dX += m.compose(C, 1) + m.compose(C, 2)"
   ]
  },
  {
   "cell_type": "markdown",
   "metadata": {},
   "source": [
    "#### load basis and "
   ]
  },
  {
   "cell_type": "code",
   "execution_count": null,
   "metadata": {},
   "outputs": [],
   "source": [
    "# import pickle\n",
    "\n",
    "## creation\n",
    "# degree = dX.degree\n",
    "# arity = dX.arity\n",
    "# basis0 = Surjection_element.basis(degree, arity, complexity)\n",
    "# basis1 = Surjection_element.basis(degree+1, arity, complexity)\n",
    "\n",
    "## saving\n",
    "# with open('basis_d5_r5.pkl', 'wb') as f:\n",
    "#     pickle.dump(basis1, f)\n",
    "\n",
    "## loading\n",
    "# with open('basis_d5_r5.pkl', 'rb') as f:\n",
    "#     basis1 = pickle.load(f)"
   ]
  },
  {
   "cell_type": "code",
   "execution_count": null,
   "metadata": {},
   "outputs": [],
   "source": [
    "# boundary = create_boundary(basis0, basis1)\n",
    "\n",
    "vector = surj_to_vector(dX, basis0)\n",
    "\n",
    "solution = lam2.solve(vector, boundary)\n",
    "\n",
    "X = vector_to_surj(solution, basis1)\n",
    "\n",
    "dX == X.boundary() # check correctness"
   ]
  }
 ],
 "metadata": {
  "kernelspec": {
   "display_name": "Python 3",
   "language": "python",
   "name": "python3"
  },
  "language_info": {
   "codemirror_mode": {
    "name": "ipython",
    "version": 3
   },
   "file_extension": ".py",
   "mimetype": "text/x-python",
   "name": "python",
   "nbconvert_exporter": "python",
   "pygments_lexer": "ipython3",
   "version": "3.8.3"
  }
 },
 "nbformat": 4,
 "nbformat_minor": 4
}
