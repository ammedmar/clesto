{
 "cells": [
  {
   "cell_type": "code",
   "execution_count": null,
   "metadata": {},
   "outputs": [],
   "source": [
    "from clesto import *\n",
    "import numpy as np\n",
    "import itertools\n",
    "\n",
    "Module_element.default_torsion = 2"
   ]
  },
  {
   "cell_type": "code",
   "execution_count": null,
   "metadata": {},
   "outputs": [],
   "source": [
    "m = Surjection_element({(1,2):1})\n",
    "b = Surjection_element({(1,2,1):1, (2,1,2):1})\n",
    "A = Surjection_element()\n",
    "# Poisson relation:\n",
    "dB = b.compose(m,1) + b.compose(m,2) + m.compose(b,1) + m.compose(b,2)\n",
    "# Paolo's choice for E2\n",
    "B = Surjection_element({(2,1,3,1,2):1, (2,3,1,3,2):1, \n",
    "                        (1,2,1,3,1):1, (3,1,3,2,3):1})\n",
    "# Salvatore relation\n",
    "dC = B.compose(m,1) + B.compose(m,2) + B.compose(m,3) + m.compose(B,1) + m.compose(B,2)\n",
    "B.compose(m,1)"
   ]
  },
  {
   "cell_type": "markdown",
   "metadata": {},
   "source": [
    "#### Bases in degree d and d+1 in Surj(3)"
   ]
  },
  {
   "cell_type": "code",
   "execution_count": null,
   "metadata": {
    "scrolled": true
   },
   "outputs": [],
   "source": [
    "def create_bases(d, complexity):\n",
    "    '''Returns the basis elements of the given complexity and \n",
    "    dimensions d and d+1\n",
    "    \n",
    "    '''\n",
    "    surj_bases = [[],[]]\n",
    "    for i in reversed(range(2)):\n",
    "        for s in product((1,2,3),repeat=3+d+i):\n",
    "            surj = Surjection_element({s:1})\n",
    "            if surj and surj.complexity <= complexity:\n",
    "                surj_bases[i].append(surj)\n",
    "                \n",
    "    bases = {0: tuple(list(s.keys()).pop() for s in surj_bases[0]),\n",
    "             1: tuple(list(s.keys()).pop() for s in surj_bases[1])}\n",
    "    \n",
    "    return bases"
   ]
  },
  {
   "cell_type": "code",
   "execution_count": null,
   "metadata": {},
   "outputs": [],
   "source": [
    "def surj_to_vector(surj, basis):\n",
    "    '''Transforms a surjection of the form {u:1, v:1, ..., w:1}\n",
    "    to a vector in the given basis given as a tuple of tuples'''\n",
    "    \n",
    "    vector = np.zeros(len(basis), dtype=np.bool)\n",
    "    for k in surj.keys():\n",
    "        vector[basis.index(k)] = True\n",
    "    return vector"
   ]
  },
  {
   "cell_type": "code",
   "execution_count": null,
   "metadata": {},
   "outputs": [],
   "source": [
    "def vector_to_surj(vector, basis):\n",
    "    '''Transforms a vector in the given basis given as a tuple of tuples\n",
    "    into the represented Surjection_element'''\n",
    "    \n",
    "    return Surjection_element({k: 1 for idx, k in enumerate(basis) if vector[idx]})"
   ]
  },
  {
   "cell_type": "markdown",
   "metadata": {},
   "source": [
    "#### Boundary from d+1 to d"
   ]
  },
  {
   "cell_type": "code",
   "execution_count": null,
   "metadata": {},
   "outputs": [],
   "source": [
    "def create_boundary(bases):\n",
    "    boundary = np.zeros((len(bases[0]), len(bases[1])), dtype=np.bool)\n",
    "    for col, basis_tuple in enumerate(bases[1]):\n",
    "        basis_surj = Surjection_element({basis_tuple: 1})\n",
    "        boundary[:, col] = surj_to_vector(basis_surj.boundary(), bases[0])\n",
    "    return boundary"
   ]
  },
  {
   "cell_type": "markdown",
   "metadata": {},
   "source": [
    "#### Linear algebra mod 2"
   ]
  },
  {
   "cell_type": "code",
   "execution_count": null,
   "metadata": {},
   "outputs": [],
   "source": [
    "import lam2"
   ]
  },
  {
   "cell_type": "markdown",
   "metadata": {},
   "source": [
    "#### Searching for a chain B\n",
    "\n",
    "agrees with Paolo's for the E2 case"
   ]
  },
  {
   "cell_type": "code",
   "execution_count": null,
   "metadata": {},
   "outputs": [],
   "source": [
    "bases = create_bases(1,2)\n",
    "\n",
    "boundary = create_boundary(bases)\n",
    "\n",
    "vector = surj_to_vector(dB, bases[0])\n",
    "\n",
    "solution, kernel_solution = lam2.solve(vector, boundary)\n",
    "\n",
    "vector_to_surj(solution, bases[1]) # agrees with Paolo's"
   ]
  }
 ],
 "metadata": {
  "kernelspec": {
   "display_name": "Python 3",
   "language": "python",
   "name": "python3"
  },
  "language_info": {
   "codemirror_mode": {
    "name": "ipython",
    "version": 3
   },
   "file_extension": ".py",
   "mimetype": "text/x-python",
   "name": "python",
   "nbconvert_exporter": "python",
   "pygments_lexer": "ipython3",
   "version": "3.8.3"
  }
 },
 "nbformat": 4,
 "nbformat_minor": 4
}
