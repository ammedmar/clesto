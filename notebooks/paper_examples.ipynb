{
 "cells": [
  {
   "cell_type": "code",
   "execution_count": null,
   "metadata": {},
   "outputs": [],
   "source": [
    "from clesto import *"
   ]
  },
  {
   "cell_type": "markdown",
   "metadata": {},
   "source": [
    "## Example 15"
   ]
  },
  {
   "cell_type": "markdown",
   "metadata": {},
   "source": [
    "## Example 16"
   ]
  },
  {
   "cell_type": "markdown",
   "metadata": {},
   "source": [
    "## Example 18"
   ]
  },
  {
   "cell_type": "markdown",
   "metadata": {},
   "source": [
    "## Example 25"
   ]
  },
  {
   "cell_type": "markdown",
   "metadata": {},
   "source": [
    "Let us consider the prime $2$. The value $P_1(x)\\big([0,1,2,3,4]\\big)$ for a homogeneous cocycle $x$ in $N^{-3}(\\triangle^4)$ is equal to the value of $x^{\\otimes 2}$ acting on"
   ]
  },
  {
   "cell_type": "code",
   "execution_count": null,
   "metadata": {},
   "outputs": [],
   "source": [
    "op = SteenrodOperation(2,1,3,convention='cochain')\n",
    "for k in op.as_EilenbergZilber_element()(4).keys():\n",
    "    if len(k[0]) == len(k[1]):\n",
    "        print('+', k)"
   ]
  },
  {
   "cell_type": "markdown",
   "metadata": {},
   "source": [
    "Similarly, the value of $P_2(y)\\big([0,1,\\dots,7]\\big)$ for a homogeneous cocycle $y$ in $N^{-5}(\\triangle^7)$ is equal to the value of $y^{\\otimes 2}$ acting on"
   ]
  },
  {
   "cell_type": "code",
   "execution_count": null,
   "metadata": {},
   "outputs": [],
   "source": [
    "op = SteenrodOperation(2, 2, 5, convention='cochain')\n",
    "for k in op.as_EilenbergZilber_element()(7).keys():\n",
    "    if len(k[0]) == len(k[1]):\n",
    "        print('+', k)"
   ]
  },
  {
   "cell_type": "markdown",
   "metadata": {},
   "source": [
    "## Example 26\n",
    "\n",
    "Let us consider the prime $3$. The value $\\beta P_1(x)\\big([0,1,\\dots,8]\\big)$ for a homogeneous cocycle $x$ in $N^{-3}(\\triangle^8)$ is equal to the value of $x^{\\otimes 3}$ acting on"
   ]
  },
  {
   "cell_type": "code",
   "execution_count": null,
   "metadata": {},
   "outputs": [],
   "source": [
    "signs = {1: '+', 2: '-'}\n",
    "op = SteenrodOperation(3, 1, 3,convention='cochain', bockstein=True)\n",
    "for k, v in op.as_EilenbergZilber_element()(8).items():\n",
    "    if len(k[0]) == len(k[1]) == len(k[2]):\n",
    "        print(signs[v], k)"
   ]
  },
  {
   "cell_type": "markdown",
   "metadata": {},
   "source": [
    "Similarly, the value of $P_1(y)\\big([0,1,\\dots,7]\\big)$ for a homogeneous cocycle $y$ in $N^{-3}(\\triangle^7)$ is equal to the value of $y^{\\otimes 3}$ acting on"
   ]
  },
  {
   "cell_type": "code",
   "execution_count": null,
   "metadata": {},
   "outputs": [],
   "source": [
    "signs = {1: '+', 2: '-'}\n",
    "op = SteenrodOperation(3,1,3,convention='cochain', bockstein=False)\n",
    "for k, v in op.as_EilenbergZilber_element()(7).items():\n",
    "    if len(k[0]) == len(k[1]) == len(k[2]): # homogeneous condition\n",
    "        print(signs[v], k)"
   ]
  },
  {
   "cell_type": "markdown",
   "metadata": {},
   "source": [
    "## Example 31"
   ]
  },
  {
   "cell_type": "markdown",
   "metadata": {},
   "source": [
    "Let us consider the prime $2$. The value $P_1(x)\\big([01]^{4}\\big)$ for a homogeneous cocycle $x$ in $N^{-3}(\\square^4)$ is equal to the value of $x^{\\otimes 2}$ acting on"
   ]
  },
  {
   "cell_type": "code",
   "execution_count": null,
   "metadata": {},
   "outputs": [],
   "source": [
    "p = 2\n",
    "op = SteenrodProduct(p, 2, torsion=p)\n",
    "surj = op.as_Surjection_element()\n",
    "cube = CubicalEilenbergZilber_element({('e' * 4,): 1}, torsion=p)\n",
    "x = surj(cube)\n",
    "answer = cube.zero()\n",
    "for k, v in x.items():\n",
    "    if k[0].count('e') == k[1].count('e'): # homogeneous condition\n",
    "        print(signs[v], k)"
   ]
  },
  {
   "cell_type": "markdown",
   "metadata": {},
   "source": [
    "## Example 32"
   ]
  },
  {
   "cell_type": "markdown",
   "metadata": {},
   "source": [
    "Let us consider the prime $3$. The value of $\\beta P_1(x)\\big([01]^2\\big)$ for a homogeneous cocycle $x$ in $N^{-1}(\\square^2)$ is equal to the value of $x^{\\otimes 3}$ acting on"
   ]
  },
  {
   "cell_type": "code",
   "execution_count": null,
   "metadata": {},
   "outputs": [],
   "source": [
    "p = 3\n",
    "signs = {1: '+', 2: '-'}\n",
    "op = SteenrodProduct(p, 1, torsion=p)\n",
    "surj = (-1) * op.as_Surjection_element()\n",
    "cube = CubicalEilenbergZilber_element({('e' * 2,): 1}, torsion=p)\n",
    "x = surj(cube)\n",
    "answer = cube.zero()\n",
    "for k, v in x.items():\n",
    "    if k[0].count('e') == k[1].count('e') == k[2].count('e'): # homogeneous condition\n",
    "        print(signs[v], k)"
   ]
  }
 ],
 "metadata": {
  "kernelspec": {
   "display_name": "Python 3",
   "language": "python",
   "name": "python3"
  },
  "language_info": {
   "codemirror_mode": {
    "name": "ipython",
    "version": 3
   },
   "file_extension": ".py",
   "mimetype": "text/x-python",
   "name": "python",
   "nbconvert_exporter": "python",
   "pygments_lexer": "ipython3",
   "version": "3.8.3"
  }
 },
 "nbformat": 4,
 "nbformat_minor": 4
}
