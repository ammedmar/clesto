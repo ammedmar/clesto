{
 "cells": [
  {
   "cell_type": "code",
   "execution_count": null,
   "metadata": {},
   "outputs": [],
   "source": [
    "from clesto import *\n",
    "from itertools import product"
   ]
  },
  {
   "cell_type": "markdown",
   "metadata": {},
   "source": [
    "## Example\n",
    "\n",
    "The values of $\\psi_{\\mathcal E}(r)(e_n)$ for small values of $r$ and $n$."
   ]
  },
  {
   "cell_type": "code",
   "execution_count": null,
   "metadata": {},
   "outputs": [],
   "source": [
    "def simplify_display(be):\n",
    "    '''...'''\n",
    "    answer = Module_element(torsion=be.torsion)\n",
    "    for k, v in be.items():\n",
    "        new_k = tuple(pi[0]-1  for pi in k)\n",
    "        answer += answer.create({new_k: v})\n",
    "    return answer\n",
    "\n",
    "for r, n in product(range(2,5), repeat=2):\n",
    "    e = BarrattEccles.steenrod_product(r, n)\n",
    "    print(f'*) r,n = {r},{n}:\\n{simplify_display(e)}')"
   ]
  },
  {
   "cell_type": "markdown",
   "metadata": {},
   "source": [
    "## Example\n",
    "The values of $\\psi_{\\mathcal X}(r)(e_n)$ for small values of $r$ and $n$."
   ]
  },
  {
   "cell_type": "code",
   "execution_count": null,
   "metadata": {},
   "outputs": [],
   "source": [
    "for r, n in product(range(2,5), repeat=2):\n",
    "    s = Surjection.steenrod_product(r, n)\n",
    "    if r == n == 4:\n",
    "        print(len(s), 'terms')\n",
    "        break\n",
    "    print(f'*) r,n = {r},{n}:\\n{s}')"
   ]
  },
  {
   "cell_type": "markdown",
   "metadata": {},
   "source": [
    "## Auxiliary function"
   ]
  },
  {
   "cell_type": "code",
   "execution_count": null,
   "metadata": {},
   "outputs": [],
   "source": [
    "def display_operation(p, s, q, bockstein=False, shape='simplex'):\n",
    "    '''Print the action of the given Steenrod operation on the given\n",
    "    degree, as well as the surjection element resposible for it.\n",
    "    \n",
    "    Parameters\n",
    "    ---------\n",
    "    p : int prime\n",
    "    Arity and torsion\n",
    "    \n",
    "    s : int\n",
    "    Lower index of the operation\n",
    "    \n",
    "    q : int non-positive\n",
    "    Degree of the homogeneous cochain considered\n",
    "    \n",
    "    bockstein = bool\n",
    "    Modeleing the Steenrod operation with or without the bockstein\n",
    "    \n",
    "    shape: string 'simplex' or 'cube'    \n",
    "    Action on the standard simplex or cube of the approriate degree\n",
    "    \n",
    "    '''\n",
    "    def filter_homogeneous(element):\n",
    "        homogeneous = {}\n",
    "        for k, v in element.items():\n",
    "            if len(set(elmt.dimension for elmt in k)) == 1:\n",
    "                homogeneous[k] = v\n",
    "        return element.create(homogeneous)\n",
    "    \n",
    "    surj = Surjection.steenrod_operation(p, s, q, bockstein=bockstein)\n",
    "    b = int(bockstein)\n",
    "\n",
    "    if p == 2:\n",
    "        d = q + s\n",
    "    else:\n",
    "        d = q + 2 * s * (p - 1) - b\n",
    "\n",
    "    if shape == 'simplex':\n",
    "        elmt = EilenbergZilber.standard_element(-d, torsion=p)\n",
    "    elif shape == 'cube':\n",
    "        elmt = CubicalEilenbergZilber.standard_element(-d, torsion=p)\n",
    "\n",
    "    print(f'surj = {surj} \\n|x|  = {q}')\n",
    "    print((\"bP\" if b else \"P\") + f'_{s}(x)({elmt._latex_()}) = x^\\otimes {p} on:\\n')\n",
    "    print(filter_homogeneous(surj(elmt))._latex_())"
   ]
  },
  {
   "cell_type": "markdown",
   "metadata": {},
   "source": [
    "## Example\n",
    "\n",
    "Let us consider the prime $2$. The value $P^1(x)\\big([0,1,2,3,4]\\big)$ for a homogeneous cocycle $x$ in $N^{-3}(\\triangle^4)$ is equal to the value of $x^{\\otimes 2}$ acting on"
   ]
  },
  {
   "cell_type": "code",
   "execution_count": null,
   "metadata": {},
   "outputs": [],
   "source": [
    "p, s, q = 2, -1, -3\n",
    "display_operation(p, s, q)"
   ]
  },
  {
   "cell_type": "markdown",
   "metadata": {},
   "source": [
    "Similarly, the value of $P^2(y)\\big([0,1,\\dots,7]\\big)$ for a homogeneous cocycle $y$ in $N^{-5}(\\triangle^7)$ is equal to the value of $y^{\\otimes 2}$ acting on"
   ]
  },
  {
   "cell_type": "code",
   "execution_count": null,
   "metadata": {},
   "outputs": [],
   "source": [
    "p, s, q = 2, -2, -5\n",
    "display_operation(p, s, q)"
   ]
  },
  {
   "cell_type": "markdown",
   "metadata": {},
   "source": [
    "## Example\n",
    "\n",
    "Let us consider the prime $3$. The value $\\beta P^1(x)\\big([0,1,\\dots,8]\\big)$ for a homogeneous cocycle $x$ in $N^{-3}(\\triangle^8)$ is equal to the value of $x^{\\otimes 3}$ acting on"
   ]
  },
  {
   "cell_type": "code",
   "execution_count": null,
   "metadata": {},
   "outputs": [],
   "source": [
    "p, s, q = 3, -1, -3\n",
    "display_operation(p, s, q, bockstein=True)"
   ]
  },
  {
   "cell_type": "markdown",
   "metadata": {},
   "source": [
    "Similarly, the value of $P^1(y)\\big([0,1,\\dots,7]\\big)$ for a homogeneous cocycle $y$ in $N^{-3}(\\triangle^7)$ is equal to the value of $y^{\\otimes 3}$ acting on"
   ]
  },
  {
   "cell_type": "code",
   "execution_count": null,
   "metadata": {},
   "outputs": [],
   "source": [
    "p, s, q = 3, -1, -3\n",
    "display_operation(p, s, q)"
   ]
  },
  {
   "cell_type": "markdown",
   "metadata": {},
   "source": [
    "## Example 31"
   ]
  },
  {
   "cell_type": "markdown",
   "metadata": {},
   "source": [
    "Let us consider the prime $2$. The value $P^1(x)\\big([01]^{4}\\big)$ for a homogeneous cocycle $x$ in $N^{-3}(\\square^4)$ is equal to the value of $x^{\\otimes 2}$ acting on"
   ]
  },
  {
   "cell_type": "code",
   "execution_count": null,
   "metadata": {},
   "outputs": [],
   "source": [
    "p, s, q = 2, -1, -3\n",
    "display_operation(p, s, q, shape='cube')"
   ]
  },
  {
   "cell_type": "markdown",
   "metadata": {},
   "source": [
    "## Example 32"
   ]
  },
  {
   "cell_type": "markdown",
   "metadata": {},
   "source": [
    "Let us consider the prime $3$. The value of $\\beta P^0(x)\\big([01]^2\\big)$ for a homogeneous cocycle $x$ in $N^{-1}(\\square^2)$ is equal to the value of $x^{\\otimes 3}$ acting on"
   ]
  },
  {
   "cell_type": "code",
   "execution_count": null,
   "metadata": {
    "scrolled": true
   },
   "outputs": [],
   "source": [
    "p, s, q = 3, 0, -1\n",
    "display_operation(p, s, q, shape='cube', bockstein=True)"
   ]
  }
 ],
 "metadata": {
  "kernelspec": {
   "display_name": "Python 3",
   "language": "python",
   "name": "python3"
  },
  "language_info": {
   "codemirror_mode": {
    "name": "ipython",
    "version": 3
   },
   "file_extension": ".py",
   "mimetype": "text/x-python",
   "name": "python",
   "nbconvert_exporter": "python",
   "pygments_lexer": "ipython3",
   "version": "3.8.3"
  }
 },
 "nbformat": 4,
 "nbformat_minor": 4
}
