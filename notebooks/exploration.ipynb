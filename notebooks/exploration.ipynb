{
 "cells": [
  {
   "cell_type": "code",
   "execution_count": null,
   "metadata": {},
   "outputs": [],
   "source": [
    "from clesto import *"
   ]
  },
  {
   "cell_type": "markdown",
   "metadata": {},
   "source": [
    "### Small examples"
   ]
  },
  {
   "cell_type": "code",
   "execution_count": null,
   "metadata": {},
   "outputs": [],
   "source": [
    "from itertools import product\n",
    "\n",
    "def iota(p, d):\n",
    "    n = int(d / 2)\n",
    "    start = tuple((0, 1))[: (d % 2) + 1]\n",
    "    shifted_keys = []\n",
    "    for prod in product(range(0, p), repeat=n):\n",
    "        middle = tuple()\n",
    "        for i in prod:\n",
    "            middle += (i, (i + 1) % p)\n",
    "        key = start + middle\n",
    "        key += tuple((i + key[-1]) % p for i in range(1, p))\n",
    "        shifted_keys.append(key)\n",
    "        \n",
    "    keys = [tuple(i + 1 for i in k) for k in shifted_keys]\n",
    "    return Surjection_element({key: 1 for key in keys})"
   ]
  },
  {
   "cell_type": "code",
   "execution_count": null,
   "metadata": {},
   "outputs": [],
   "source": [
    "for p in [2,3,5]:\n",
    "    Module_element.default_torsion = p\n",
    "    CyclicModule_element.default_order = p\n",
    "\n",
    "    for d in range(6):\n",
    "        e = CyclicModule_element({0:1})\n",
    "        x = e.psi(d).phi().table_reduction() # using table reduction\n",
    "        y = iota(p, d) # direct formula\n",
    "        z = e.as_Surjection_element(d)\n",
    "        print(f'p = {p} d = {d}')\n",
    "        print(x, '\\n')\n",
    "        print(y, '\\n')\n",
    "        print(z, '\\n')"
   ]
  },
  {
   "cell_type": "markdown",
   "metadata": {},
   "source": [
    "### Finding homotopy between $f = \\iota \\circ \\lambda_{\\#}$ and $g = \\gamma_{\\#} \\circ \\iota$"
   ]
  },
  {
   "cell_type": "code",
   "execution_count": null,
   "metadata": {},
   "outputs": [],
   "source": [
    "p = 3\n",
    "Module_element.default_torsion = p\n",
    "CyclicDGModule_element.default_order = p\n",
    "rho = CyclicModule_element({1:1}, order=p)\n",
    "\n",
    "def H(d):\n",
    "    H_dict = {0: CyclicDGModule_element(),\n",
    "              1: CyclicDGModule_element({(0,1,2): 1})}\n",
    "    return H_dict[d]\n",
    "\n",
    "def ie(d):\n",
    "    return CyclicModule_element({0:1}, order=p).psi(d)\n",
    "\n",
    "def f(d):\n",
    "    if d % 2 == 0:\n",
    "        return (2 ** int(d/2)) * ie(d)\n",
    "    if d % 2 == 1:\n",
    "        return (2 ** int((d-1)/2)) * (ie(d) + (rho(ie(d))))\n",
    "\n",
    "def g(d):\n",
    "    return CyclicDGModule_element({\n",
    "        tuple(2*i for i in key): v for key, v in ie(d).items()})\n",
    "\n",
    "\n",
    "n = 2\n",
    "# check, has to be 0\n",
    "# print(f(n) - g(n) - H(n).boundary())\n",
    "# search f - g - H \\partial\n",
    "y = f(n) - g(n) - (rho*rho)(H(n-1)) + H(n-1)\n",
    "print(- (rho*rho)(H(n-1)) + H(n-1))"
   ]
  },
  {
   "cell_type": "markdown",
   "metadata": {},
   "source": [
    "### Looking for homotopy $x_{2n} \\to 0$  "
   ]
  },
  {
   "cell_type": "code",
   "execution_count": null,
   "metadata": {},
   "outputs": [],
   "source": [
    "p = 3\n",
    "def x(d):\n",
    "    e = CyclicModule_element({0:1}).set_order(p)\n",
    "    x = e.psi(d).phi().set_torsion(p)\n",
    "    return x\n",
    "\n",
    "gamma = SymmetricModule_element({(2,1,3):1}, torsion=p)\n",
    "print(x(2))\n",
    "print(gamma * x(2))\n",
    "print(x(2) * gamma)"
   ]
  }
 ],
 "metadata": {
  "kernelspec": {
   "display_name": "Python 3",
   "language": "python",
   "name": "python3"
  },
  "language_info": {
   "codemirror_mode": {
    "name": "ipython",
    "version": 3
   },
   "file_extension": ".py",
   "mimetype": "text/x-python",
   "name": "python",
   "nbconvert_exporter": "python",
   "pygments_lexer": "ipython3",
   "version": "3.7.3"
  }
 },
 "nbformat": 4,
 "nbformat_minor": 2
}
