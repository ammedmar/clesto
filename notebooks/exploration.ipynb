{
 "cells": [
  {
   "cell_type": "code",
   "execution_count": null,
   "metadata": {},
   "outputs": [],
   "source": [
    "from clesto import *"
   ]
  },
  {
   "cell_type": "code",
   "execution_count": null,
   "metadata": {},
   "outputs": [],
   "source": [
    "p = 3\n",
    "\n",
    "Module_element.default_torsion = p\n",
    "CyclicModule_element.default_order = p\n",
    "\n",
    "i = 5\n",
    "e = CyclicModule_element({0:1})\n",
    "x = e.psi(i)\n",
    "\n",
    "print(x)\n"
   ]
  },
  {
   "cell_type": "code",
   "execution_count": null,
   "metadata": {},
   "outputs": [],
   "source": [
    "p = 3\n",
    "\n",
    "Module_element.default_torsion = p\n",
    "CyclicModule_element.default_order = p\n",
    "\n",
    "i = 2\n",
    "e = CyclicModule_element({0:1})\n",
    "x = e.psi(i).phi()\n",
    "\n",
    "for r in x.keys():\n",
    "    print(str(r).replace('+','\\n').replace('), (', ')\\n(').replace('((','(').replace('))',')'),'\\n')\n",
    "    print(BarrattEccles_element({r:1}).table_reduction(),'\\n')"
   ]
  },
  {
   "cell_type": "code",
   "execution_count": null,
   "metadata": {},
   "outputs": [],
   "source": [
    "e2 = DGModule_element({('0','r','r+1'):1})\n",
    "e2.alexander_whitney(2)"
   ]
  }
 ],
 "metadata": {
  "kernelspec": {
   "display_name": "Python 3",
   "language": "python",
   "name": "python3"
  }
 },
 "nbformat": 4,
 "nbformat_minor": 2
}
