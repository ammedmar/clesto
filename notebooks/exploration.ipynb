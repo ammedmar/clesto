{
 "cells": [
  {
   "cell_type": "code",
   "execution_count": null,
   "metadata": {},
   "outputs": [],
   "source": [
    "from clesto import *"
   ]
  },
  {
   "cell_type": "code",
   "execution_count": null,
   "metadata": {},
   "outputs": [],
   "source": [
    "Module_element.default_torsion = 5\n",
    "CyclicModule_element.default_order = 5\n",
    "\n",
    "# e = CyclicModule_element({0:1})\n",
    "# for i in range(3):\n",
    "#     x = e.psi(i).phi().table_reduction()\n",
    "#     print(i,x)\n",
    "N = CyclicModule_element.norm_element().set_torsion('free')\n",
    "T = CyclicModule_element.transposition_element().set_torsion('free')"
   ]
  },
  {
   "cell_type": "code",
   "execution_count": null,
   "metadata": {},
   "outputs": [],
   "source": [
    "Module_element.default_torsion = 'free'\n",
    "p = 3\n",
    "eta = {0 : Surjection_element({tuple(i+1 for i in range(p)): 1})}\n"
   ]
  },
  {
   "cell_type": "code",
   "execution_count": null,
   "metadata": {},
   "outputs": [],
   "source": [
    "p = 5\n",
    "\n",
    "Module_element.default_torsion = p\n",
    "CyclicModule_element.default_order = p\n",
    "\n",
    "i = 4\n",
    "e = CyclicModule_element({0:1})\n",
    "x = e.psi(i)\n",
    "\n",
    "for r in x.keys():\n",
    "    print(str(r).replace('+','\\n').replace('), (', ')\\n(').replace('((','(').replace('))',')'),'\\n')\n",
    "          \n",
    "# for r in x.keys():\n",
    "#     print(str(r).replace('+','\\n').replace('), (', ')\\n(').replace('((','(').replace('))',')'),'\\n')\n",
    "#     print(BarrattEccles_element({r:1}).table_reduction(),'\\n')"
   ]
  },
  {
   "cell_type": "code",
   "execution_count": null,
   "metadata": {},
   "outputs": [],
   "source": [
    "e2 = DGModule_element({('0','r','r+1'):1})\n",
    "e2.alexander_whitney(2)"
   ]
  },
  {
   "cell_type": "markdown",
   "metadata": {},
   "source": [
    "Finding homotopy between $f = \\iota \\circ \\lambda_{\\#}$ and $g = \\gamma_{\\#} \\circ \\iota$"
   ]
  },
  {
   "cell_type": "code",
   "execution_count": null,
   "metadata": {},
   "outputs": [],
   "source": [
    "p = 3\n",
    "Module_element.default_torsion = p\n",
    "CyclicDGModule_element.default_order = p\n",
    "rho = CyclicModule_element({1:1}, order=p)\n",
    "\n",
    "def H(d):\n",
    "    H_dict = {0: CyclicDGModule_element(),\n",
    "              1: CyclicDGModule_element({(0,1,2): 1})}\n",
    "    return H_dict[d]\n",
    "\n",
    "def ie(d):\n",
    "    return CyclicModule_element({0:1}, order=p).psi(d)\n",
    "\n",
    "def f(d):\n",
    "    if d % 2 == 0:\n",
    "        return (2 ** int(d/2)) * ie(d)\n",
    "    if d % 2 == 1:\n",
    "        return (2 ** int((d-1)/2)) * (ie(d) + (rho(ie(d))))\n",
    "\n",
    "def g(d):\n",
    "    return CyclicDGModule_element({\n",
    "        tuple(2*i for i in key): v for key, v in ie(d).items()})\n",
    "\n",
    "\n",
    "n = 2\n",
    "# check, hast to be 0\n",
    "# print(f(n) - g(n) - H(n).boundary())\n",
    "# search f - g - H \\partial\n",
    "y = f(n) - g(n) - (rho*rho)(H(n-1)) + H(n-1)\n",
    "print(- (rho*rho)(H(n-1)) + H(n-1))"
   ]
  },
  {
   "cell_type": "markdown",
   "metadata": {},
   "source": [
    "### Looking for homotopy $x_{2n} \\to 0$  "
   ]
  },
  {
   "cell_type": "code",
   "execution_count": null,
   "metadata": {},
   "outputs": [],
   "source": [
    "p = 3\n",
    "def x(d):\n",
    "    e = CyclicModule_element({0:1}).set_order(p)\n",
    "    x = e.psi(d).phi().set_torsion(p)\n",
    "    return x\n",
    "\n",
    "gamma = SymmetricModule_element({(2,1,3):1}, torsion=p)\n",
    "print(x(2))\n",
    "print(gamma * x(2))\n",
    "print(x(2) * gamma)"
   ]
  }
 ],
 "metadata": {
  "kernelspec": {
   "display_name": "Python 3",
   "language": "python",
   "name": "python3"
  },
  "language_info": {
   "codemirror_mode": {
    "name": "ipython",
    "version": 3
   },
   "file_extension": ".py",
   "mimetype": "text/x-python",
   "name": "python",
   "nbconvert_exporter": "python",
   "pygments_lexer": "ipython3",
   "version": "3.7.3"
  }
 },
 "nbformat": 4,
 "nbformat_minor": 2
}
