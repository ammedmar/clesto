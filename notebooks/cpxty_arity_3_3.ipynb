{
 "cells": [
  {
   "cell_type": "code",
   "execution_count": null,
   "metadata": {},
   "outputs": [],
   "source": [
    "from clesto import *\n",
    "from itertools import product\n",
    "from functools import reduce"
   ]
  },
  {
   "cell_type": "code",
   "execution_count": null,
   "metadata": {},
   "outputs": [],
   "source": [
    "basis = [[],[]]\n",
    "for i in reversed(range(2)):\n",
    "    for s in product((1,2,3),repeat=7+i):\n",
    "        surj = Surjection_element({s:1}, torsion=3)\n",
    "        if surj and surj.complexity <= 3:\n",
    "            if surj.orbit() not in basis[i]:\n",
    "                basis[i].append(surj.orbit())\n",
    "    print(f'Basis of the symmetric quotient in degree {i+4}\\n{[str(b) for b in basis[i]]}\\n')"
   ]
  },
  {
   "cell_type": "code",
   "execution_count": null,
   "metadata": {},
   "outputs": [],
   "source": [
    "bdry = basis[1][0].boundary().orbit()\n",
    "print('Boundary of the top chain')\n",
    "print(bdry)"
   ]
  },
  {
   "cell_type": "code",
   "execution_count": null,
   "metadata": {},
   "outputs": [],
   "source": [
    "cycles = []\n",
    "for coeffs in product([0,1,2], repeat=6):\n",
    "    chain = (i*s for i, s in zip(coeffs, basis[0]))\n",
    "    chain = reduce(lambda x, y: x + y, chain)\n",
    "    partial = chain.boundary().orbit()\n",
    "    if not partial and chain:\n",
    "        cycle = chain.orbit()\n",
    "        print('cycle:')\n",
    "        print(cycle)\n",
    "        cycles.append(cycle)"
   ]
  },
  {
   "cell_type": "code",
   "execution_count": null,
   "metadata": {},
   "outputs": [],
   "source": [
    "p = 3\n",
    "T = SymmetricModule_element({(2, 1):1}, torsion = p)\n",
    "def x(d):\n",
    "    return Surjection_element({tuple(i%2 + 1 for i in range(2+d)):1}, torsion=p)\n",
    "\n",
    "compositions = []\n",
    "\n",
    "a = [x(2), T*x(2)]\n",
    "\n",
    "for i,j,k in product(range(2), repeat=3):\n",
    "    compositions.append(a[i].compose(a[j], k+1).orbit())\n",
    "    \n",
    "print([str(s) for s in compositions])"
   ]
  },
  {
   "cell_type": "code",
   "execution_count": null,
   "metadata": {},
   "outputs": [],
   "source": [
    "cycles = []\n",
    "for coeffs in product([0,1,2], repeat=8):\n",
    "    chain = (i * s for i, s in zip(coeffs, compositions))\n",
    "    chain = reduce(lambda x, y: x + y, chain)\n",
    "    partial = chain.boundary().orbit()\n",
    "    if not partial and chain:\n",
    "        cycle = chain.orbit()\n",
    "        print('cycle:')\n",
    "        print(cycle)\n",
    "        cycles.append(cycle)"
   ]
  },
  {
   "cell_type": "code",
   "execution_count": null,
   "metadata": {},
   "outputs": [],
   "source": [
    "(x(2) - T*x(2)).compose(x(2) - T*x(2), 1).orbit()"
   ]
  }
 ],
 "metadata": {
  "kernelspec": {
   "display_name": "Python 3",
   "language": "python",
   "name": "python3"
  },
  "language_info": {
   "codemirror_mode": {
    "name": "ipython",
    "version": 3
   },
   "file_extension": ".py",
   "mimetype": "text/x-python",
   "name": "python",
   "nbconvert_exporter": "python",
   "pygments_lexer": "ipython3",
   "version": "3.8.3"
  }
 },
 "nbformat": 4,
 "nbformat_minor": 4
}
