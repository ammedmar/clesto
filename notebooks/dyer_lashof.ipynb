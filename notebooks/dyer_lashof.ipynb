{
 "cells": [
  {
   "cell_type": "code",
   "execution_count": null,
   "metadata": {},
   "outputs": [],
   "source": [
    "from clesto import *"
   ]
  },
  {
   "cell_type": "markdown",
   "metadata": {},
   "source": [
    "#### Parameters"
   ]
  },
  {
   "cell_type": "code",
   "execution_count": null,
   "metadata": {},
   "outputs": [],
   "source": [
    "n = 3\n",
    "p = 3\n",
    "\n",
    "arity = p\n",
    "degree = (n-1)*(p-1)\n",
    "torsion = p\n",
    "convention = 'Berger-Fresse'"
   ]
  },
  {
   "cell_type": "markdown",
   "metadata": {},
   "source": [
    "#### Using the E-infinity construction"
   ]
  },
  {
   "cell_type": "code",
   "execution_count": null,
   "metadata": {},
   "outputs": [],
   "source": [
    "surj = Surjection.steenrod_product(arity, degree, torsion, convention)\n",
    "print(f'surj = {surj}.\\n')\n",
    "print(f'complexity = {surj.complexity}.\\n')\n",
    "print(f'd_surj = {surj.boundary()}.\\n')\n",
    "print(f'[d_surj] = {surj.boundary().orbit()}')"
   ]
  },
  {
   "cell_type": "markdown",
   "metadata": {},
   "source": [
    "#### Turchin representative"
   ]
  },
  {
   "cell_type": "code",
   "execution_count": null,
   "metadata": {},
   "outputs": [],
   "source": [
    "x = Surjection_element({(1,2,1):1}, p, convention)\n",
    "turchin = x.compose(x, 1)\n",
    "print(f'{x} o_1 {x} = {turchin}')\n",
    "print(f'its boundary is {turchin.boundary()}')\n",
    "print(f'whose twisted orbit is {turchin.boundary().orbit(\"sign\")}')"
   ]
  },
  {
   "cell_type": "markdown",
   "metadata": {},
   "source": [
    "#### All orbits arising from compositions"
   ]
  },
  {
   "cell_type": "code",
   "execution_count": null,
   "metadata": {},
   "outputs": [],
   "source": [
    "from itertools import product \n",
    "\n",
    "comp = []\n",
    "x = Surjection_element({(2,1,2,1): 1}, p, convention)\n",
    "rho = SymmetricRing.rotation_element(2, torsion=p)\n",
    "\n",
    "for a, b, i in product([x, rho * x], [x, rho * x], {1,2}):\n",
    "    comp.append(a.compose(b, i).orbit())\n",
    "    \n",
    "for surj in set(comp):\n",
    "    print(surj)"
   ]
  },
  {
   "cell_type": "markdown",
   "metadata": {},
   "source": [
    "#### Salvatore representative"
   ]
  },
  {
   "cell_type": "code",
   "execution_count": null,
   "metadata": {},
   "outputs": [],
   "source": [
    "salvatore = Surjection_element({(1, 2, 1, 2, 3, 2, 3):1,\n",
    "                                (1, 2, 3, 1, 3, 2, 3):1,\n",
    "                                (1, 2, 3, 2, 1, 2, 3):1,\n",
    "                                (1, 2, 1, 3, 1, 2, 3):2},\n",
    "                               torsion, convention)\n",
    "print(salvatore)\n",
    "print(salvatore.boundary().orbit())"
   ]
  },
  {
   "cell_type": "markdown",
   "metadata": {},
   "source": [
    "#### Suspension"
   ]
  },
  {
   "cell_type": "code",
   "execution_count": null,
   "metadata": {
    "scrolled": true
   },
   "outputs": [],
   "source": [
    "print(salvatore.suspension().boundary().orbit('sign'))"
   ]
  },
  {
   "cell_type": "markdown",
   "metadata": {},
   "source": [
    "#### Educated guess"
   ]
  },
  {
   "cell_type": "code",
   "execution_count": null,
   "metadata": {},
   "outputs": [],
   "source": [
    "# from itertools import product\n",
    "\n",
    "# # wild card (1,2,3,2,3,1,3,1,2)\n",
    "\n",
    "# cand = Surjection_element({(1,2,3,2,1,2,3,2,1):1,(1,2,1,3,1,2,3,2,1):-1,(1,2,3,1,3,2,3,2,1):1,(1,2,1,2,3,2,3,2,1):1,\n",
    "\n",
    "# (1,2,3,2,1,3,1,2,1):1,(1,2,3,2,3,1,3,2,1):-1,(1,2,3,2,3,2,1,2,1):1},3,'Berger-Fresse')\n",
    "\n",
    "# keys = [(1,2,1,3,1,3,1,2,1), (1,2,1,3,1,2,1,3,1), (1,2,1,2,1,3,1,3,1), (1,2,1,2,3,2,1,2,1), (1,2,1,3,2,3,1,3,1), (1,2,1,2,3,2,3,1,3), (1,2,1,3,1,3,2,3,2)]\n",
    "# candidates = []\n",
    "# for coeff in product([0,1,2], repeat=7):\n",
    "#     candidate = cand + Surjection_element({k: v for k,v in zip(keys, coeff)}, 3, convention)\n",
    "#     if not candidate.boundary().orbit('sign'):\n",
    "#         print(candidate)\n",
    "# print('finished')"
   ]
  },
  {
   "cell_type": "markdown",
   "metadata": {},
   "source": [
    "#### All basis up to degree d"
   ]
  },
  {
   "cell_type": "code",
   "execution_count": null,
   "metadata": {},
   "outputs": [],
   "source": [
    "arity = 3\n",
    "complexity = 3\n",
    "bases_keys = {}\n",
    "d = 8\n",
    "for i in range(0, d+1):\n",
    "    keys = Surjection.basis(arity, i, complexity)\n",
    "    # set on a Module_element returns the set of keys\n",
    "    bases_keys[i] = tuple(set(Surjection_element({k:1 for k in keys}).orbit()))\n",
    "    print(f'i={i}: {len(bases_keys[i])}\\n')"
   ]
  },
  {
   "cell_type": "code",
   "execution_count": null,
   "metadata": {},
   "outputs": [],
   "source": [
    "import scipy.sparse, numpy\n",
    "def construct_boundary(bases_keys, d, rep='trivial'):\n",
    "    '''constructs a sparse matrix representing the boundary map from chains of\n",
    "    degree d to chains of degree d-1'''\n",
    "    domain_keys, target_keys = bases_keys[d], bases_keys[d-1]\n",
    "    target_keys_idx = {k: index for index, k in enumerate(target_keys)}\n",
    "    m, n = len(target_keys), len(domain_keys)\n",
    "    D = scipy.sparse.lil_matrix((m, n), dtype=int)\n",
    "    for j, elmt in enumerate(domain_keys):\n",
    "        bdry = Surjection_element({elmt: 1}).boundary().orbit(rep)\n",
    "        for k, v in bdry.items():\n",
    "            D[target_keys_idx[k], j] = v\n",
    "    return D\n",
    "\n",
    "boundary = {}\n",
    "for i in range(1, d+1):\n",
    "    boundary[i] = (construct_boundary(bases_keys, i, 'sign'))\n",
    "\n",
    "# boundary square is zero\n",
    "print((boundary[5] * boundary[6]))\n",
    "\n",
    "print(boundary[6].todense())"
   ]
  },
  {
   "cell_type": "markdown",
   "metadata": {},
   "source": [
    "#### From vector to chain"
   ]
  },
  {
   "cell_type": "code",
   "execution_count": null,
   "metadata": {},
   "outputs": [],
   "source": [
    "d = 6\n",
    "idx2key = {idx: key for idx, key in enumerate(bases_keys[d])}\n",
    "vector = (0,0,0,0,0,2,0,0,0,2,0,1,0,1,1,0,0)\n",
    "chain = Surjection_element(torsion=arity)\n",
    "for idx, v in enumerate(vector):\n",
    "    if v:\n",
    "        chain += chain.create({idx2key[idx]: v})\n",
    "print(chain, '\\n')\n",
    "print(chain.boundary().orbit('sign'))"
   ]
  }
 ],
 "metadata": {
  "kernelspec": {
   "display_name": "Python 3",
   "language": "python",
   "name": "python3"
  },
  "language_info": {
   "codemirror_mode": {
    "name": "ipython",
    "version": 3
   },
   "file_extension": ".py",
   "mimetype": "text/x-python",
   "name": "python",
   "nbconvert_exporter": "python",
   "pygments_lexer": "ipython3",
   "version": "3.8.3"
  }
 },
 "nbformat": 4,
 "nbformat_minor": 4
}
