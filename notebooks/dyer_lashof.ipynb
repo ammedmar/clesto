{
 "cells": [
  {
   "cell_type": "code",
   "execution_count": null,
   "metadata": {},
   "outputs": [],
   "source": [
    "from clesto import *"
   ]
  },
  {
   "cell_type": "code",
   "execution_count": null,
   "metadata": {},
   "outputs": [],
   "source": [
    "n = 3\n",
    "p = 3\n",
    "\n",
    "arity = p\n",
    "degree = (n-1)*(p-1)\n",
    "surj = Surjection.steenrod_product(arity,\n",
    "                                   degree,\n",
    "                                   torsion=p,\n",
    "                                   convention='McClure-Smith')"
   ]
  },
  {
   "cell_type": "code",
   "execution_count": null,
   "metadata": {},
   "outputs": [],
   "source": [
    "print(f'surj = {surj}.\\n')\n",
    "print(f'complexity = {surj.complexity}.\\n')\n",
    "d_surj = surj.boundary()\n",
    "print(f'd_surj = {d_surj}.\\n')\n",
    "d_surj_orbit = d_surj.orbit(representation=\"sign\")\n",
    "print(f'[d_surj] = {d_surj_orbit}')"
   ]
  }
 ],
 "metadata": {
  "kernelspec": {
   "display_name": "Python 3",
   "language": "python",
   "name": "python3"
  },
  "language_info": {
   "codemirror_mode": {
    "name": "ipython",
    "version": 3
   },
   "file_extension": ".py",
   "mimetype": "text/x-python",
   "name": "python",
   "nbconvert_exporter": "python",
   "pygments_lexer": "ipython3",
   "version": "3.8.3"
  }
 },
 "nbformat": 4,
 "nbformat_minor": 4
}
