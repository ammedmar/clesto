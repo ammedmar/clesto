{
 "cells": [
  {
   "cell_type": "markdown",
   "metadata": {},
   "source": [
    "## Modeling elements in a free $\\mathbb Z$-module"
   ]
  },
  {
   "cell_type": "code",
   "execution_count": 1,
   "metadata": {
    "scrolled": true
   },
   "outputs": [
    {
     "name": "stdout",
     "output_type": "stream",
     "text": [
      "0\n",
      "x+y  = (a+2b+3c)+(a-b+c)     = 2a+b+4c\n",
      "x-3y = (a+2b+3c)+(-3a+3b-3c) = -2a+5b\n",
      "x-3y mod 4 = 2a+b\n"
     ]
    }
   ],
   "source": [
    "#_________________________________79_characters________________________________\n",
    "from clesto import Z_Module_element\n",
    "\n",
    "x = Z_Module_element({'a':1, 'b':2, 'c':3})\n",
    "y = Z_Module_element({'a':1, 'b':-1, 'c':1})\n",
    "print(f'x+y  = ({x})+({y})     = {x+y}')\n",
    "print(f'x-3y = ({x})+({-3*y}) = {x+-3*y}')\n",
    "print(f'x-3y mod 4 = {(x+-3*y) % 4}')"
   ]
  },
  {
   "cell_type": "markdown",
   "metadata": {},
   "source": [
    "## Modeling elements in a free $\\mathbb Z/ p\\mathbb Z$-module "
   ]
  },
  {
   "cell_type": "code",
   "execution_count": 2,
   "metadata": {},
   "outputs": [
    {
     "name": "stdout",
     "output_type": "stream",
     "text": [
      "x+y  = (a+2b)+(a+2b+c) = 2a+b+c\n",
      "x-3y = (a+2b)+(0) = a+2b\n",
      "4(a+2b) = a+2b\n"
     ]
    }
   ],
   "source": [
    "#_________________________________79_characters________________________________\n",
    "from clesto import Z_p_Module_element\n",
    "\n",
    "Z_p_Module_element.prime = 3\n",
    "\n",
    "x = Z_p_Module_element({'a':1, 'b':2, 'c':3})\n",
    "y = Z_p_Module_element({'a':1, 'b':-1, 'c':1})\n",
    "\n",
    "print(f'x+y  = ({x})+({y}) = {x+y}')\n",
    "print(f'x-3y = ({x})+({-3*y}) = {x+-3*y}')\n",
    "print(f'4({x}) = {4*x}')"
   ]
  },
  {
   "cell_type": "markdown",
   "metadata": {},
   "source": [
    "## Modeling elements in the algebra $\\mathbb Z_p[C_p]$\n",
    "\n",
    "Where $C_p$ is the cyclic group with $p$ elements"
   ]
  },
  {
   "cell_type": "code",
   "execution_count": 3,
   "metadata": {},
   "outputs": [
    {
     "name": "stdout",
     "output_type": "stream",
     "text": [
      "T=a+2, N=1+a+a^2, T(N)=0 and N(T)=0\n"
     ]
    }
   ],
   "source": [
    "#_________________________________79_characters________________________________\n",
    "from clesto import Z_pC_p_element\n",
    "\n",
    "T = Z_pC_p_element({1:1,0:-1})\n",
    "N = Z_pC_p_element.norm_element()\n",
    "print(f'T={T}, N={N}, T(N)={T(N)} and N(T)={N(T)}')"
   ]
  },
  {
   "cell_type": "markdown",
   "metadata": {},
   "source": [
    "## Modeling elements in the integral chains of a simplicial complex"
   ]
  },
  {
   "cell_type": "code",
   "execution_count": 4,
   "metadata": {},
   "outputs": [
    {
     "name": "stdout",
     "output_type": "stream",
     "text": [
      "d(y) = (1,2)-(0,2)+(0,1)\n"
     ]
    }
   ],
   "source": [
    "#_________________________________79_characters________________________________\n",
    "from clesto import Simplicial_Chain_Complex_element\n",
    "\n",
    "y = Simplicial_Chain_Complex_element({(0,1,2):1})\n",
    "print(f'd(y) = {y.boundary()}')"
   ]
  },
  {
   "cell_type": "markdown",
   "metadata": {},
   "source": [
    "## Modeling elements in the unreduced bar construction $E(\\mathbb Z/p[C_p])$"
   ]
  },
  {
   "cell_type": "code",
   "execution_count": 5,
   "metadata": {},
   "outputs": [],
   "source": [
    "#_________________________________79_characters________________________________\n",
    "from clesto import EZ_pC_p_element\n",
    "\n"
   ]
  },
  {
   "cell_type": "markdown",
   "metadata": {},
   "source": [
    "## The map $\\psi : W(p) \\to E(\\mathbb Z/p[C_p])$\n",
    "\n",
    "\\begin{equation*}\n",
    "\\psi(e_0) = (\\alpha) \\qquad \\psi(e_{k}) = \n",
    "\\begin{cases} \n",
    "\\big( \\alpha, N \\psi(e_{k-1}) \\big) & k \\text{ even} \\\\\n",
    "\\big( \\alpha, T \\psi(e_{k-1}) \\big) & k \\text{ odd.} \n",
    "\\end{cases}\n",
    "\\end{equation*}"
   ]
  },
  {
   "cell_type": "code",
   "execution_count": 6,
   "metadata": {},
   "outputs": [
    {
     "name": "stdout",
     "output_type": "stream",
     "text": [
      "a^(1,2,0,1)+a^(1,2,1,2)\n"
     ]
    }
   ],
   "source": [
    "x = Z_pC_p_element({1:1})\n",
    "print(x.psi(3))"
   ]
  },
  {
   "cell_type": "code",
   "execution_count": null,
   "metadata": {},
   "outputs": [],
   "source": []
  }
 ],
 "metadata": {
  "kernelspec": {
   "display_name": "Python 3",
   "language": "python",
   "name": "python3"
  },
  "language_info": {
   "codemirror_mode": {
    "name": "ipython",
    "version": 3
   },
   "file_extension": ".py",
   "mimetype": "text/x-python",
   "name": "python",
   "nbconvert_exporter": "python",
   "pygments_lexer": "ipython3",
   "version": "3.7.3"
  }
 },
 "nbformat": 4,
 "nbformat_minor": 2
}
