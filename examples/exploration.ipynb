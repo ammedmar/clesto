{
 "cells": [
  {
   "cell_type": "code",
   "execution_count": null,
   "metadata": {},
   "outputs": [],
   "source": [
    "from clesto import *"
   ]
  },
  {
   "cell_type": "code",
   "execution_count": null,
   "metadata": {},
   "outputs": [],
   "source": [
    "p = 5\n",
    "Cyclic_Module_element.order = p\n",
    "Cyclic_DGModule_element.order = p\n",
    "Module_element.torsion = p\n",
    "\n",
    "i = 5\n",
    "e = Cyclic_Module_element({0:1})\n",
    "x = e.psi(i).phi()\n",
    "for r in x.keys():\n",
    "    print(str(r).replace('+','\\n').replace('), (', ')\\n(').replace('((','(').replace('))',')'))\n",
    "    print(Barratt_Eccles_element({r:1}).table_reduction())"
   ]
  }
 ],
 "metadata": {
  "kernelspec": {
   "display_name": "Python 3",
   "language": "python",
   "name": "python3"
  },
  "language_info": {
   "codemirror_mode": {
    "name": "ipython",
    "version": 3
   },
   "file_extension": ".py",
   "mimetype": "text/x-python",
   "name": "python",
   "nbconvert_exporter": "python",
   "pygments_lexer": "ipython3",
   "version": "3.7.3"
  }
 },
 "nbformat": 4,
 "nbformat_minor": 2
}
