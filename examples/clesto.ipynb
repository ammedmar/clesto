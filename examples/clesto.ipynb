{
 "cells": [
  {
   "cell_type": "markdown",
   "metadata": {},
   "source": [
    "# Clesto\n",
    "\n",
    "...\n",
    "\n",
    "## Free $R$-modules\n",
    "\n",
    "For a ring $R$ equal to $\\mathbb Z$ or $\\mathbb Z/n\\mathbb Z$ we introduce a class modeling elements in free $R$-modules. They support `+` addition, `-` substraction and `*` scaling. The ring is specified via the class attribute `torsion`."
   ]
  },
  {
   "cell_type": "code",
   "execution_count": null,
   "metadata": {},
   "outputs": [],
   "source": [
    "from clesto import Module_element\n",
    "\n",
    "Module_element.torsion = None #this is the default\n",
    "x = Module_element({'a':1, 'b':2, 'c':3})\n",
    "print(f'Let x = {x}, then \\nx+x = {x+x}\\nx-x = {x-x}\\n2*x = {2*x}')\n",
    "\n",
    "Module_element.torsion = 2\n",
    "x = Module_element(x)\n",
    "print(f'and with 2-torsion \\nx = {x}.')"
   ]
  },
  {
   "cell_type": "markdown",
   "metadata": {},
   "source": [
    "## Group rings of cyclic groups\n",
    "\n",
    "Let $C$ the infinite cyclic group and $C_n = \\langle a\\ |\\ a^n = 1\\rangle$ be the cyclic group of order $n$. We introduce a class modeling elements in the group rings $\\mathbb Z/n\\mathbb Z[C_n]$ or $\\mathbb Z[C]$. It inherents support for addition `+`, substraction `-`, and scaling `*`, and additionally, it supports the ring product `*`."
   ]
  },
  {
   "cell_type": "code",
   "execution_count": null,
   "metadata": {},
   "outputs": [],
   "source": [
    "from clesto import Cyclic_Module_element\n",
    "\n",
    "Cyclic_Module_element.torsion = 3\n",
    "x = Cyclic_Module_element({0:1, 1:2, 2:3})\n",
    "print(f'Let x = {x}, then x*x = {x*x}.')"
   ]
  },
  {
   "cell_type": "markdown",
   "metadata": {},
   "source": [
    "For a finite cyclic group, there are two important elements $T = a-1$ and $N = 1+a+\\cdots+a^{n-1}$ which define a resolution\n",
    "\n",
    "\\begin{equation*}\n",
    "\\mathbb Z/n\\mathbb Z[C_n] \\stackrel{T}{\\longleftarrow} \\mathbb Z/n\\mathbb Z[C_n] \\stackrel{N}{\\longleftarrow} \\mathbb Z/n\\mathbb Z[C_n] \\stackrel{T}{\\longleftarrow} \\cdots\n",
    "\\end{equation*}\n",
    "\n",
    "of $\\mathbb Z/n\\mathbb Z$ considered as a $\\mathbb Z/n\\mathbb Z[C_n]$-module"
   ]
  },
  {
   "cell_type": "code",
   "execution_count": null,
   "metadata": {},
   "outputs": [],
   "source": [
    "Cyclic_Module_element.torsion = 7\n",
    "T = Cyclic_Module_element.transpo_element()\n",
    "N = Cyclic_Module_element.norm_element()\n",
    "print(f'For n = 7 we have T = {T} and \\nN = {N}.')"
   ]
  },
  {
   "cell_type": "markdown",
   "metadata": {},
   "source": [
    "## Bar construction of cyclic group rings\n",
    "\n",
    "**Definition**. The *nerve* of a group $\\Gamma$ is the simplicial set\n",
    "\n",
    "\\begin{equation*}\n",
    "\\begin{split}\n",
    "\\Gamma_n &= \\big\\{ (\\sigma_0, \\dots, \\sigma_n)\\ |\\ \\sigma_i \\in \\Gamma \\big\\} \\\\\n",
    "d_i(\\sigma_0, \\dots, \\sigma_n) &= (\\sigma_0, \\dots, \\widehat{\\sigma}_i, \\dots, \\sigma_n) \\\\\n",
    "s_i(\\sigma_0, \\dots, \\sigma_n) &= (\\sigma_i, \\dots, \\sigma_i, \\sigma_i, \\dots, \\sigma_n). \\\\\n",
    "\\end{split}\n",
    "\\end{equation*}\n",
    "\n",
    "and the *unreduced bar construction* of the group ring $R[\\Gamma]$ is the differential graded $R$-module $N_\\bullet(\\Gamma;R)$ resulting from applying the functor of normalized chains to the nerve of $\\Gamma$.\n",
    "\n",
    "We introduce a class that models the unreduced bar construction of $\\mathbb Z/n\\mathbb Z[C_p]$. It inherents support for addition `+`, substraction `-`, and scaling `*`, and additionally, it supports the action of $\\mathbb Z/n\\mathbb Z[C_p]$ induced coordinatewise and a method modeling the boundary operator."
   ]
  },
  {
   "cell_type": "code",
   "execution_count": null,
   "metadata": {},
   "outputs": [],
   "source": [
    "from clesto import Cyclic_DGModule_element\n",
    "\n",
    "Module_element.torsion = 5\n",
    "N = Cyclic_Module_element.norm_element()\n",
    "x = Cyclic_DGModule_element({(0,1,0,4):1})\n",
    "print(f'Let x = {x}. The action of \\nN = {N} \\non x is \\n{N(x)}')\n",
    "\n",
    "bdry = x.boundary()\n",
    "print(f'and the boundary of x is \\n{bdry}.')"
   ]
  },
  {
   "cell_type": "markdown",
   "metadata": {},
   "source": [
    "## Steenrod operations (under construction)\n",
    "\n",
    "\\begin{align*}\n",
    "\\psi(e_{2n}) & = \n",
    "\\sum_{0 < r_1, \\dots, r_n < p} \n",
    "\\big( 1, \\alpha^{I_1(r_1,\\dots,r_n)}, \\dots,\\ \\alpha^{I_{2n}(r_1,\\dots,r_n)} \\big) \\\\\n",
    "\\psi(e_{2n+1}) & = \n",
    "\\sum_{0 < r_1, \\dots, r_n < p} \n",
    "\\big( 1, \\alpha, \\alpha^{I_1(r_1,\\dots,r_n)+1}, \\dots,\\ \\alpha^{I_{2n}(r_1,\\dots,r_n)+1} \\big)\n",
    "\\end{align*}"
   ]
  },
  {
   "cell_type": "code",
   "execution_count": null,
   "metadata": {},
   "outputs": [],
   "source": [
    "from clesto import Module_element"
   ]
  },
  {
   "cell_type": "code",
   "execution_count": null,
   "metadata": {},
   "outputs": [],
   "source": [
    "Module_element.prime = 3\n",
    "x = Cyclic_Module_element({0:1})\n",
    "for k in range(1,7):\n",
    "    y = x.psi(k)\n",
    "    z = y.phi()\n",
    "    w = z.table_reduction()\n",
    "    print(f'\\nF(e_{k}) =\\n{y}'.replace(', ',','),'\\n')\n",
    "    print(f'{z}'.replace('((','(').replace('))',')').replace('),',')\\n').replace('+','+\\n\\n'),'\\n')\n",
    "    print(f'{w}'.replace(', ',','),'\\n')"
   ]
  },
  {
   "cell_type": "code",
   "execution_count": null,
   "metadata": {},
   "outputs": [],
   "source": [
    "from clesto import EZ_pS_p_element\n",
    "a = EZ_pS_p_element({(\n",
    "(1,2,3,4,5),\n",
    "(3,4,5,1,2),\n",
    "(4,5,1,2,3),\n",
    "(2,3,4,5,1),\n",
    "(3,4,5,1,2)):1})\n",
    "\n",
    "print(str(a.table_reduction()).replace(', ',',').replace('+','\\n'))"
   ]
  },
  {
   "cell_type": "markdown",
   "metadata": {},
   "source": [
    "$1 \\leq s_0 < r_1 \\leq p-1$\n",
    "\n",
    "$0,\\dots,s_0\\ s_0,\\dots, s$\n",
    "\n",
    "$1 \\leq s_0 < r_1 \\leq p-1$"
   ]
  },
  {
   "cell_type": "code",
   "execution_count": null,
   "metadata": {},
   "outputs": [],
   "source": [
    "# table_reduction({((1,2,3,4),(1,2,4,3))})\n",
    "from clesto import EZ_pC_p_element\n",
    "a = EZ_pC_p_element({(1,0,2):2, (2,0,2):1})\n",
    "b = a.phi()\n",
    "print(a, type(a))\n",
    "print(b, type(b))\n",
    "\n",
    "print(str(b.table_reduction()).replace(', ',','))"
   ]
  }
 ],
 "metadata": {
  "kernelspec": {
   "display_name": "Python 3",
   "language": "python",
   "name": "python3"
  },
  "language_info": {
   "codemirror_mode": {
    "name": "ipython",
    "version": 3
   },
   "file_extension": ".py",
   "mimetype": "text/x-python",
   "name": "python",
   "nbconvert_exporter": "python",
   "pygments_lexer": "ipython3",
   "version": "3.7.3"
  }
 },
 "nbformat": 4,
 "nbformat_minor": 2
}
